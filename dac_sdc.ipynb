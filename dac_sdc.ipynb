{
 "cells": [
  {
   "cell_type": "markdown",
   "metadata": {},
   "source": [
    "# DAC Contest\n",
    "This reference design will help you walk through a design flow of DAC SDC 2023. This is a simplified design to help users get started on the FPGA platform and to understand the overall flow. It does not contain any object detection hardware.\n",
    "\n",
    "If you have any questions, please post on the Slack page (link on SDC website sidebar).\n",
    "\n",
    "### Hardware\n",
    "\n",
    "### Software\n",
    "Note:\n",
    "  * You will not submit your `dac_sdc.py` file, so any changes you make to this file will not be considered during evluation.  \n",
    "  * You can use both PS and PL side to do inference.\n",
    "\n",
    "### Object Detection\n",
    "\n",
    "Object detection will be done on images in batches:\n",
    "  * You will provide a Python callback function that will perform object detection on batch of images.  This callback function wile be called many times.\n",
    "  * The callback function should return the locations of all images in the batch.\n",
    "  * Runtime will be recorded during your callback function.\n",
    "  * Images will be loaded from SD card before each batch is run, and this does not count toward your energy usage or runtime.\n",
    "  \n",
    "### Notebook\n",
    "Your notebook should contain 4 code cells:\n",
    "\n",
    "1. Importing all libraries and creating your Team object.\n",
    "1. Downloading the overlay, compile the code, and performany any one-time configuration.\n",
    "1. Python callback function and any other Python helper functions.\n",
    "1. Running object detection\n",
    "1. Cleanup\n",
    "\n"
   ]
  },
  {
   "cell_type": "markdown",
   "metadata": {},
   "source": [
    "## 1. Imports and Create Team"
   ]
  },
  {
   "cell_type": "code",
   "execution_count": 1,
   "metadata": {},
   "outputs": [],
   "source": [
    "import os\n",
    "os.environ['PATH'] = '/usr/local/cuda-10.2/bin:' + os.environ.get('PATH', '')\n",
    "os.environ['LD_LIBRARY_PATH'] = '/usr/local/cuda/lib64:' + os.environ.get('LD_LIBRARY_PATH', '')\n",
    "os.environ['CUDA_HOME'] = os.environ.get('CUDA_HOME', '') + ':/usr/local/cuda-10.2'"
   ]
  },
  {
   "cell_type": "code",
   "execution_count": 2,
   "metadata": {},
   "outputs": [
    {
     "name": "stdout",
     "output_type": "stream",
     "text": [
      "Please make sure that pycuda 2022.1 version is installed, otherwise our code will run error.\n",
      "Pycuda 2022.1 version may be incompatible with other software libraries.We have installed and tested it in a brand new system many tiems. If you cannot install it, we recommend that you install it in a new environment after flashing the system.If you have any questions, please contact us in time.\n"
     ]
    }
   ],
   "source": [
    "print('Please make sure that pycuda 2022.1 version is installed, otherwise our code will run error.')\n",
    "print('Pycuda 2022.1 version may be incompatible with other software libraries.We have installed and tested it in a brand new system many tiems. If you cannot install it, we recommend that you install it in a new environment after flashing the system.If you have any questions, please contact us in time.')"
   ]
  },
  {
   "cell_type": "code",
   "execution_count": 3,
   "metadata": {},
   "outputs": [
    {
     "name": "stdout",
     "output_type": "stream",
     "text": [
      "Collecting pycuda==2022.1\n",
      "Collecting mako (from pycuda==2022.1)\n",
      "  Using cached https://files.pythonhosted.org/packages/b4/4d/e03d08f16ee10e688bde9016bc80af8b78c7f36a8b37c7194da48f72207e/Mako-1.1.6-py2.py3-none-any.whl\n",
      "Collecting appdirs>=1.4.0 (from pycuda==2022.1)\n",
      "  Using cached https://files.pythonhosted.org/packages/3b/00/2344469e2084fb287c2e0b57b72910309874c3245463acd6cf5e3db69324/appdirs-1.4.4-py2.py3-none-any.whl\n",
      "Collecting pytools>=2011.2 (from pycuda==2022.1)\n",
      "Collecting MarkupSafe>=0.9.2 (from mako->pycuda==2022.1)\n",
      "Collecting dataclasses>=0.7; python_version <= \"3.6\" (from pytools>=2011.2->pycuda==2022.1)\n",
      "  Using cached https://files.pythonhosted.org/packages/fe/ca/75fac5856ab5cfa51bbbcefa250182e50441074fdc3f803f6e76451fab43/dataclasses-0.8-py3-none-any.whl\n",
      "Collecting platformdirs>=2.2.0 (from pytools>=2011.2->pycuda==2022.1)\n",
      "  Using cached https://files.pythonhosted.org/packages/b1/78/dcfd84d3aabd46a9c77260fb47ea5d244806e4daef83aa6fe5d83adb182c/platformdirs-2.4.0-py3-none-any.whl\n",
      "Collecting typing-extensions>=4.0; python_version < \"3.11\" (from pytools>=2011.2->pycuda==2022.1)\n",
      "  Using cached https://files.pythonhosted.org/packages/45/6b/44f7f8f1e110027cf88956b59f2fad776cca7e1704396d043f89effd3a0e/typing_extensions-4.1.1-py3-none-any.whl\n",
      "Installing collected packages: MarkupSafe, mako, appdirs, dataclasses, platformdirs, typing-extensions, pytools, pycuda\n",
      "Successfully installed MarkupSafe-2.0.1 appdirs-1.4.4 dataclasses-0.8 mako-1.1.6 platformdirs-2.4.0 pycuda-2022.1 pytools-2022.1.12 typing-extensions-4.1.1\n"
     ]
    }
   ],
   "source": [
    "!pip3 install pycuda==2022.1"
   ]
  },
  {
   "cell_type": "code",
   "execution_count": 4,
   "metadata": {},
   "outputs": [],
   "source": [
    "from __future__ import print_function\n",
    "import cv2\n",
    "import numpy as np\n",
    "import sys\n",
    "import os\n",
    "\n",
    "sys.path.append(os.path.abspath(\"../common\"))\n",
    "\n",
    "import dac_sdc\n",
    "import tensorrt as trt\n",
    "import pycuda.driver as cuda\n",
    "import pycuda.autoinit\n",
    "from pycuda import gpuarray\n",
    "from pycuda.compiler import SourceModule"
   ]
  },
  {
   "cell_type": "code",
   "execution_count": 5,
   "metadata": {},
   "outputs": [],
   "source": [
    "batchsize = 1\n",
    "team_name = 'SEU AIC Lab'\n",
    "dac_sdc.BATCH_SIZE = batchsize\n",
    "team = dac_sdc.Team(team_name)"
   ]
  },
  {
   "cell_type": "code",
   "execution_count": 6,
   "metadata": {},
   "outputs": [],
   "source": [
    "conf_thres = 0.3403\n",
    "nms_thres = 0.3\n",
    "trt_path = './seu-aic-lab.trt'"
   ]
  },
  {
   "cell_type": "markdown",
   "metadata": {},
   "source": [
    "**Your team directory where you can access your notebook, and any other files you submit, is available as `team.team_dir`.**"
   ]
  },
  {
   "cell_type": "markdown",
   "metadata": {},
   "source": [
    "## 2. Preparing the library and model\n",
    "Prepare the dependencies for the contest, including installing python packages, compiling your binaries, and linking to the notebook.\n",
    "\n",
    "Your team is responsible to make sure the correct packages are installed. For the contest environment, use the configuration below provided by Nvidia:\n",
    "- [JetPack 4.6.1](https://developer.nvidia.com/embedded/jetpack-sdk-461)\n",
    "    - Ubuntu 18.04\n",
    "    - CUDA 10.2\n",
    "    - cuDNN 8.2.1\n",
    "    - gcc 7.5.0\n",
    "    - python 3.6.9\n",
    "    - TensorRT 8.2.1"
   ]
  },
  {
   "cell_type": "code",
   "execution_count": 7,
   "metadata": {},
   "outputs": [],
   "source": [
    "def resize_clip(x, h, w, rh, rw):\n",
    "    x = x / (rw, rh, rw, rh)\n",
    "    x = np.clip(x, 0, (w-1, h-1, w-1, h-1))\n",
    "\n",
    "    return x\n",
    "\n",
    "\n",
    "def bbox_iou(box1, box2, area):\n",
    "    inter_rect_xy1 = np.maximum(box1[:, :2], box2[:, :2])\n",
    "    inter_rect_xy2 = np.minimum(box1[:, 2:4], box2[:, 2:4])\n",
    "    inter_area = (inter_rect_xy2 - inter_rect_xy1 + 1).clip(0).prod(1)\n",
    "    iou = inter_area / (area[:1] + area[1:] - inter_area + 1e-16)\n",
    "\n",
    "    return iou\n",
    "\n",
    "\n",
    "def compute_area(xyxy):\n",
    "    return (xyxy[:, 2] - xyxy[:, 0] + 1) * (xyxy[:, 3] - xyxy[:, 1] + 1)\n",
    "\n",
    "\n",
    "def nms(bb, nms_iou=0.6):\n",
    "    bb = bb[np.argsort(-bb[:, 4])]\n",
    "    area = compute_area(bb[:, :4])\n",
    "\n",
    "    keep_boxes = []\n",
    "    while bb.shape[0]:\n",
    "        invalid = bbox_iou(bb[:1, :4], bb[1:, :4], area) > nms_iou\n",
    "        keep_boxes += [bb[0]]\n",
    "        bb = bb[1:][~invalid]\n",
    "        area = area[1:][~invalid]\n",
    "\n",
    "    return np.stack(keep_boxes, 0) if len(keep_boxes) else np.array([])\n"
   ]
  },
  {
   "cell_type": "code",
   "execution_count": 8,
   "metadata": {},
   "outputs": [],
   "source": [
    "kernel_code_bilinear = \"\"\"\n",
    "    __global__ void resize_bilinear(const unsigned char* input, float* output, int input_width, int input_height, int output_width, int output_height)\n",
    "    {\n",
    "        int x = blockIdx.x * blockDim.x + threadIdx.x;\n",
    "        int y = blockIdx.y * blockDim.y + threadIdx.y;\n",
    "        int z = threadIdx.z;\n",
    "\n",
    "        if (x < output_width && y < output_height)\n",
    "        {\n",
    "            float scale_x = (float)input_width / output_width;\n",
    "            float scale_y = (float)input_height / output_height;\n",
    "\n",
    "            float src_x = (x + 0.5f) * scale_x - 0.5f;\n",
    "            float src_y = (y + 0.5f) * scale_y - 0.5f;\n",
    "            \n",
    "            int src_x1 = (int)src_x;\n",
    "            int src_y1 = (int)src_y;\n",
    "            int src_x2 = src_x1 + 1;\n",
    "            int src_y2 = src_y1 + 1;\n",
    "            \n",
    "            float dx = src_x - src_x1;\n",
    "            float dy = src_y - src_y1;\n",
    "\n",
    "            int src_index11 = (src_y1 * input_width + src_x1) * 3 + z;\n",
    "            int src_index12 = (src_y2 * input_width + src_x1) * 3 + z;\n",
    "            int src_index21 = (src_y1 * input_width + src_x2) * 3 + z;\n",
    "            int src_index22 = (src_y2 * input_width + src_x2) * 3 + z;\n",
    "            int dst_index = (z * output_height + y) * output_width + x;\n",
    "\n",
    "            output[dst_index] = round(input[src_index11] * (1 - dx) * (1 - dy) + input[src_index12] * (1 - dx) * dy + input[src_index21] * dx * (1 - dy) + input[src_index22] * dx * dy) / 255;\n",
    "        }\n",
    "    }\n",
    "\"\"\"\n",
    "mod_bilinear = SourceModule(kernel_code_bilinear)\n",
    "bilinear_func = mod_bilinear.get_function(\"resize_bilinear\")\n",
    "block_size = (16, 16, 3)\n",
    "grid_size = ((320 - 1) // block_size[0] + 1, (192 - 1) // block_size[1] + 1, 1)"
   ]
  },
  {
   "cell_type": "markdown",
   "metadata": {},
   "source": [
    "## 3. Python Callback Function and Helper Functions\n"
   ]
  },
  {
   "cell_type": "markdown",
   "metadata": {},
   "source": [
    "### Pushing the picture through the pipeline\n",
    "In this example, we use contiguous memory arrays for sending and receiving data via DMA.\n",
    "\n",
    "The size of the buffer depends on the size of the input or output data.  The example images are 640x360 (same size as training and test data), and we will use `pynq.allocate` to allocate contiguous memory.\n",
    "\n",
    "### Callback function\n",
    "The callback function:\n",
    "  - Will be called on each batch of images (will be called many times)\n",
    "  - Is prvided with a list of tuples of (image path, RGB image)\n",
    "  - It should return a dictionary with an entry for each image:\n",
    "    - Key: Image name (`img_path.name`)\n",
    "    - Value: Dictionary of item type and bounding box (keys: `type`, `x`, `y`, `width`, `height`)\n",
    "\n",
    "See the code below for an example:\n"
   ]
  },
  {
   "cell_type": "code",
   "execution_count": 9,
   "metadata": {},
   "outputs": [],
   "source": [
    "class HostDeviceMem(object):\n",
    "    def __init__(self, host_mem, device_mem):\n",
    "        self.host = host_mem\n",
    "        self.device = device_mem\n",
    "\n",
    "    def __str__(self):\n",
    "        return \"Host:\\n\" + str(self.host) + \"\\nDevice:\\n\" + str(self.device)\n",
    "\n",
    "    def __repr__(self):\n",
    "        return self.__str__()\n",
    "        \n",
    "\n",
    "class dac_model(object):\n",
    "    def __init__(self, trt_path):\n",
    "        \n",
    "        TRT_LOGGER = trt.Logger()\n",
    "\n",
    "        runtime = trt.Runtime(TRT_LOGGER)\n",
    "        with open(trt_path, \"rb\") as f:\n",
    "            engine = runtime.deserialize_cuda_engine(f.read())\n",
    "            \n",
    "        self.context = engine.create_execution_context()\n",
    "        self.inputs, self.outputs, self.bindings = [], [], []\n",
    "        self.stream = cuda.Stream()\n",
    "        \n",
    "        for binding in engine:\n",
    "            size = tuple(engine.get_binding_shape(binding))\n",
    "            dtype = trt.nptype(engine.get_binding_dtype(binding))\n",
    "\n",
    "            if engine.binding_is_input(binding):\n",
    "                host_mem = cuda.pagelocked_empty(size, dtype)\n",
    "                device_mem = cuda.mem_alloc(host_mem.nbytes)\n",
    "                self.bindings.append(int(device_mem))\n",
    "                self.inputs.append(HostDeviceMem(host_mem, device_mem))\n",
    "            else:\n",
    "                host_mem = cuda.pagelocked_empty(size, dtype)\n",
    "                device_mem = cuda.mem_alloc(host_mem.nbytes)\n",
    "                self.bindings.append(int(device_mem))\n",
    "                self.outputs.append(HostDeviceMem(host_mem, device_mem))\n",
    "        self.resize_input = cuda.mem_alloc(1200*2000*3)\n",
    "    \n",
    "    def infer(self, img):\n",
    "        h0, w0, _ = img.shape     \n",
    "        cuda.memcpy_htod_async(self.resize_input, img, self.stream)\n",
    "        bilinear_func(self.resize_input, self.inputs[0].device, np.int32(w0), np.int32(h0), np.int32(320), np.int32(192), block=block_size, grid=grid_size)\n",
    "\n",
    "        self.context.execute_async(batch_size=1, bindings=self.bindings, stream_handle=self.stream.handle)\n",
    "        \n",
    "        [cuda.memcpy_dtoh_async(out.host, out.device, self.stream) for out in self.outputs]\n",
    "        self.stream.synchronize()\n",
    "\n",
    "        return [out.host for out in self.outputs], h0, w0\n",
    "\n",
    "    \n",
    "model = dac_model(trt_path)\n",
    "    \n",
    "for i in range(50):\n",
    "    image = np.random.randint(0, 256, (1088, 1920, 3), np.uint8)\n",
    "    preds, h0, w0 = model.infer(image)\n"
   ]
  },
  {
   "cell_type": "code",
   "execution_count": 10,
   "metadata": {},
   "outputs": [],
   "source": [
    "def my_callback(rgb_imgs):\n",
    "    object_locations_by_image = {}\n",
    "    object_locations = []\n",
    "   \n",
    "    img_path, img = rgb_imgs[0]\n",
    "    preds, h0, w0 = model.infer(img)\n",
    "    \n",
    "    rw = 320 / w0\n",
    "    rh = 192 / h0\n",
    "    \n",
    "    seg = preds[1].astype(np.uint8)\n",
    "    for i in range(3):\n",
    "        p = seg[i]\n",
    "        contours, _ = cv2.findContours(p, cv2.RETR_EXTERNAL, cv2.CHAIN_APPROX_SIMPLE)\n",
    "        for contour in contours:\n",
    "            contour = contour / (rw, rh)\n",
    "            object_locations.append(\n",
    "                    {\"type\": int(i+8), \"x\": -1, \"y\": -1, \"width\": -1, \"height\": -1,\n",
    "                    \"segmentation\": contour.reshape(1, -1).tolist()})       \n",
    "\n",
    "    det = preds[0] \n",
    "    xc = det[..., 4] > conf_thres\n",
    "    det = det[xc]\n",
    "    det[..., :4] = resize_clip(det[..., :4], h0, w0, rh, rw)\n",
    "    det = nms(det, nms_iou=nms_thres)\n",
    "    for box in det:\n",
    "        object_locations.append(\n",
    "            {\"type\": int(box[5]+1), \"x\": int(box[0]), \"y\": int(box[1]), \"width\": int(box[2]) - int(box[0]),\n",
    "             \"height\": int(box[3]) - int(box[1]), \"segmentation\": [[]]})\n",
    "    object_locations_by_image[img_path.name] = object_locations\n",
    "    \n",
    "    return object_locations_by_image\n"
   ]
  },
  {
   "cell_type": "markdown",
   "metadata": {},
   "source": [
    "## 4. Running Object Detection\n",
    "\n",
    "Call the following function to run the object detection.  Extra debug output is enabled when `debug` is `True`."
   ]
  },
  {
   "cell_type": "code",
   "execution_count": 1,
   "metadata": {},
   "outputs": [],
   "source": [
    "print('Please wait for 10 minutes, the result will appear')\n",
    "team.run(my_callback, debug=False)"
   ]
  },
  {
   "cell_type": "code",
   "execution_count": null,
   "metadata": {},
   "outputs": [],
   "source": []
  }
 ],
 "metadata": {
  "kernelspec": {
   "display_name": "Python 3 (ipykernel)",
   "language": "python",
   "name": "python3"
  },
  "language_info": {
   "codemirror_mode": {
    "name": "ipython",
    "version": 3
   },
   "file_extension": ".py",
   "mimetype": "text/x-python",
   "name": "python",
   "nbconvert_exporter": "python",
   "pygments_lexer": "ipython3",
   "version": "3.9.13"
  }
 },
 "nbformat": 4,
 "nbformat_minor": 4
}
